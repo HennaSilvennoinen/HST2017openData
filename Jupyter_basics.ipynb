{
 "cells": [
  {
   "cell_type": "markdown",
   "metadata": {},
   "source": [
    "# Basics for Jupyter Notebook"
   ]
  },
  {
   "cell_type": "markdown",
   "metadata": {},
   "source": [
    "This file contains general instructions and models for making notebooks in Jupyter. The main idea of this document is to provide some formatting models and tools. However, it is not supposed to be an overall introduction to Python coding nor Jupyter. \n",
    "\n",
    "## How to read this documentation?\n",
    "There are several examples of how to create some formatting, tables etc. in this document. You are able to see the code behind the formatted text cell (type: markdown) by double-clicking the cell. The cell then goes to edit mode where you may modify the text. Cells including code (type: code) can also be ultered similarly.\n",
    "To return back from the edit mode, run the cell by pressing Ctrl + Enter and the result of your formatting / the output of your code will appear. Below you find short descriptions of the toolbar options:\n",
    "\n",
    "<img src=\"images/jupyter_toolbar.jpg\">\n",
    "\n",
    "If your code gets stuck with no proper reason, try to restart the kernel. Select from Menu bar\n",
    "- **Kernel:**_ Restart and clear output\\*_  which erases all the saved variables and you can rerun the cells one by one or\n",
    "- **Kernel:** _Restart and run all_ which will run all the cells automatically. \n",
    "\n",
    "\\*It is also nice for you to clear the output before reading this further so you will see the results of the codes only after running the cell ;)\n",
    "\n",
    "**Run all the cells in order!** <br>\n",
    "If you modify something, make sure that the critical cells for your code have been run before running your new code.\n",
    "\n",
    "More information and example codes can be found for example [here](https://www.packtpub.com/books/content/basics-jupyter-notebook-and-python) or [here](https://www.dataquest.io/blog/jupyter-notebook-tips-tricks-shortcuts/)."
   ]
  },
  {
   "cell_type": "markdown",
   "metadata": {},
   "source": [
    "## Let's get started!\n",
    "To begin, we will import some packages necessary for calculations and plotting."
   ]
  },
  {
   "cell_type": "code",
   "execution_count": 3,
   "metadata": {
    "collapsed": false
   },
   "outputs": [],
   "source": [
    "import pandas as pd\n",
    "import numpy as np\n",
    "import matplotlib.pyplot as plt\n",
    "\n",
    "#COMMENT: Packages are renamed with the command \"as\" so that they are shorter to refer to later on."
   ]
  },
  {
   "cell_type": "markdown",
   "metadata": {},
   "source": [
    "## Tables, lists, shortkeys and formatting"
   ]
  },
  {
   "cell_type": "markdown",
   "metadata": {},
   "source": [
    "#### Shortkeys:\n",
    "\n",
    " There are some useful shortkeys listed in the table below. Check out the structure of the table, can you spot different alignments in the columns? \n",
    "\n",
    "| Shortkey <br> (Cell not active \\*)  |   Function       | Shortkey <br> (Cell active \\**)     | Function        |\n",
    "|:---:               |:---                       |  ---            | ---:                                |   \n",
    "| a/b                | new cell above/below      | Ctrl + Enter     | run cell                           |\n",
    "| dd                 | delete cell               | Shift + Enter    | run cell and activate next cell    |\n",
    "| m/y                | text/code cell            | Alt + Enter      | run cell and create new cell below |\n",
    "| up/down            | previous/next cell        | Ctrl + Shift + - | divide cell                        |\n",
    "| s                  | save                      | Ctrl + S         | save                               |\n",
    "| (centered)           | (left aligned)              | (left aligned)        | (right aligned)           | \n",
    " \n",
    "\\* *Cell not active* refers to command mode when the cursor is outside of the cell and the side of the cell is blue. <br>\n",
    "\\*\\* *Cell active* refers to edit mode when the cursor is active inside the cell and the side of the cell is green. <br>"
   ]
  },
  {
   "cell_type": "markdown",
   "metadata": {},
   "source": [
    "#### Text formatting:\n",
    "- _italic_ (underscore)\n",
    "    - *italic* (asterisk)\n",
    "- __bold__ (double underscore)\n",
    "    - **bold** (double asterisk)\n",
    "- **_combined_** (double asterisk + underscore)\n",
    "- ~~strikethrough~~ (double tilde)\n",
    "\n",
    "You can also include quotes\n",
    "> Not only is the Universe stranger than we think, it is stranger than we can think. <br>\n",
    " ― Werner Heisenberg"
   ]
  },
  {
   "cell_type": "markdown",
   "metadata": {},
   "source": [
    "## Calculating and printing"
   ]
  },
  {
   "cell_type": "markdown",
   "metadata": {},
   "source": [
    "Calculations can be performed directly by using as a calculator or by using a variable which can be referred later on. Printing is perfomed with the command _print()_. Use of brackets and quotation marks vary between the Python versions 2 and 3 and there are a couple of ways presented in this document."
   ]
  },
  {
   "cell_type": "code",
   "execution_count": 2,
   "metadata": {
    "collapsed": false
   },
   "outputs": [
    {
     "data": {
      "text/plain": [
       "17200.0"
      ]
     },
     "execution_count": 2,
     "metadata": {},
     "output_type": "execute_result"
    }
   ],
   "source": [
    "2*86/(0.01)"
   ]
  },
  {
   "cell_type": "code",
   "execution_count": 3,
   "metadata": {
    "collapsed": false,
    "scrolled": false
   },
   "outputs": [
    {
     "data": {
      "text/plain": [
       "2"
      ]
     },
     "execution_count": 3,
     "metadata": {},
     "output_type": "execute_result"
    }
   ],
   "source": [
    "# Calculate the sum and show the result by using a variable \"sum11\".\n",
    "sum11=1+1\n",
    "sum11"
   ]
  },
  {
   "cell_type": "code",
   "execution_count": 4,
   "metadata": {
    "collapsed": false
   },
   "outputs": [
    {
     "data": {
      "text/plain": [
       "5"
      ]
     },
     "execution_count": 4,
     "metadata": {},
     "output_type": "execute_result"
    }
   ],
   "source": [
    "# The calculated variable can be used later\n",
    "sum11+3"
   ]
  },
  {
   "cell_type": "code",
   "execution_count": 1,
   "metadata": {
    "collapsed": false
   },
   "outputs": [
    {
     "name": "stdout",
     "output_type": "stream",
     "text": [
      "Hello world!\n"
     ]
    }
   ],
   "source": [
    "print('Hello world!')"
   ]
  },
  {
   "cell_type": "markdown",
   "metadata": {},
   "source": [
    "## Figures, plotting and data types"
   ]
  },
  {
   "cell_type": "markdown",
   "metadata": {},
   "source": [
    "Let's add a picture _happy-cat_ from folder _images_, which is in the same folder with this file\n",
    "<img src=\"images/happy-cat.jpg\">\n",
    "and a link <br>\n",
    "http://2.bp.blogspot.com/-_6QPHAn-zCE/TVvJcWLy1cI/AAAAAAAAAf4/QGXTFeQ2T2k/s1600/happy-cat.jpg. <br><br>\n",
    "Link can also be hidden like [this](http://2.bp.blogspot.com/-_6QPHAn-zCE/TVvJcWLy1cI/AAAAAAAAAf4/QGXTFeQ2T2k/s1600/happy-cat.jpg)."
   ]
  },
  {
   "cell_type": "markdown",
   "metadata": {},
   "source": [
    "Make a plot using a set of points."
   ]
  },
  {
   "cell_type": "code",
   "execution_count": 4,
   "metadata": {
    "collapsed": false
   },
   "outputs": [
    {
     "data": {
      "image/png": "[encoded data removed]",
      "text/plain": [
       "<matplotlib.figure.Figure at 0x7fc141d8ca10>"
      ]
     },
     "metadata": {},
     "output_type": "display_data"
    }
   ],
   "source": [
    "# Jupyter Notebook has some built-in \"magic functions\". \n",
    "# Command below inserts the figure in this document\n",
    "%matplotlib inline\n",
    "x = [1,2,3,4,5,6] #Set values\n",
    "y1 = [2,4,3,5,2,7]\n",
    "y2 = [3,2,5,3,6,3]\n",
    "plt.plot(x,y1,'mo') #Draw magenta coloured circles at coordinates (x,y1)\n",
    "plt.plot(x,y1)      #Draw connecting line\n",
    "plt.plot(x,y2,'gx') #Draw green crosses at coordinates (x,y2)\n",
    "# Select the range for axes\n",
    "axes = plt.gca()\n",
    "axes.set_xlim([0,7])\n",
    "axes.set_ylim([0,8])\n",
    "# Draw the plot\n",
    "plt.show()"
   ]
  },
  {
   "cell_type": "markdown",
   "metadata": {
    "collapsed": false,
    "scrolled": true
   },
   "source": [
    "Important variable types which can be referred to:\n",
    "\n",
    "| Symbol  |  Meaning                   |\n",
    "|:---:    |---                         |\n",
    "| %c      |\tcharacter                  |\n",
    "| %s      |\tstring                     |\n",
    "| %i      |\tsigned decimal integer     |\n",
    "| %d      |\tsigned decimal integer     |\n",
    "| %f      |\tfloating point real number |\n",
    "| %e      | scientific                 |\n",
    "\n",
    "You can determine the type of a variable with command *type(variable_name)* and find out the amount of characters/rows with the command *len(variable_name)*"
   ]
  },
  {
   "cell_type": "markdown",
   "metadata": {},
   "source": [
    "## Data processing"
   ]
  },
  {
   "cell_type": "markdown",
   "metadata": {},
   "source": [
    "Text and data can be combined by referring to variables. There are a few ways to do it and here are two examples:"
   ]
  },
  {
   "cell_type": "code",
   "execution_count": 5,
   "metadata": {
    "collapsed": false,
    "scrolled": true
   },
   "outputs": [
    {
     "name": "stdout",
     "output_type": "stream",
     "text": [
      "Hi! My name is Mimi and I'm 24 years old. I have a cat called Miumiu.\n",
      "Hi! My name is Mimi and I'm 24 years old.\n"
     ]
    }
   ],
   "source": [
    "name = 'Mimi'   #type string\n",
    "age = 2017-1993 #type integer\n",
    "cat = 'Miumiu'\n",
    "print (\"Hi! My name is %s and I'm %d years old. I have a cat called %s.\" % (name, age, cat)) \n",
    "print(\"Hi! My name is {} and I'm {} years old.\".format(name,age))"
   ]
  },
  {
   "cell_type": "markdown",
   "metadata": {},
   "source": [
    "### Opening a file\n",
    "Let's read a file _test_ from folder _data_ which is in the same folder with this file. Save the contents of the file into variable _info_."
   ]
  },
  {
   "cell_type": "code",
   "execution_count": 8,
   "metadata": {
    "collapsed": false
   },
   "outputs": [],
   "source": [
    "info = pd.read_csv('data/test.csv')"
   ]
  },
  {
   "cell_type": "markdown",
   "metadata": {},
   "source": [
    "Determine the number of rows in the file and check the contents of the file by printing first five rows. The length of the file can be referred directly."
   ]
  },
  {
   "cell_type": "code",
   "execution_count": 9,
   "metadata": {
    "collapsed": false
   },
   "outputs": [
    {
     "name": "stdout",
     "output_type": "stream",
     "text": [
      "The file has 7 rows, showing first 5 of them.\n"
     ]
    },
    {
     "data": {
      "text/html": [
       "<div>\n",
       "<table border=\"1\" class=\"dataframe\">\n",
       "  <thead>\n",
       "    <tr style=\"text-align: right;\">\n",
       "      <th></th>\n",
       "      <th>Name</th>\n",
       "      <th>Age</th>\n",
       "      <th>FavouriteColor</th>\n",
       "      <th>ShoeSize</th>\n",
       "    </tr>\n",
       "  </thead>\n",
       "  <tbody>\n",
       "    <tr>\n",
       "      <th>0</th>\n",
       "      <td>Mimi</td>\n",
       "      <td>24</td>\n",
       "      <td>purple</td>\n",
       "      <td>39</td>\n",
       "    </tr>\n",
       "    <tr>\n",
       "      <th>1</th>\n",
       "      <td>Mary</td>\n",
       "      <td>50</td>\n",
       "      <td>red</td>\n",
       "      <td>35</td>\n",
       "    </tr>\n",
       "    <tr>\n",
       "      <th>2</th>\n",
       "      <td>Melanie</td>\n",
       "      <td>35</td>\n",
       "      <td>blue</td>\n",
       "      <td>40</td>\n",
       "    </tr>\n",
       "    <tr>\n",
       "      <th>3</th>\n",
       "      <td>Toby</td>\n",
       "      <td>7</td>\n",
       "      <td>yellow</td>\n",
       "      <td>27</td>\n",
       "    </tr>\n",
       "    <tr>\n",
       "      <th>4</th>\n",
       "      <td>Tim</td>\n",
       "      <td>65</td>\n",
       "      <td>black</td>\n",
       "      <td>46</td>\n",
       "    </tr>\n",
       "  </tbody>\n",
       "</table>\n",
       "</div>"
      ],
      "text/plain": [
       "      Name  Age FavouriteColor  ShoeSize\n",
       "0     Mimi   24         purple        39\n",
       "1     Mary   50            red        35\n",
       "2  Melanie   35           blue        40\n",
       "3     Toby    7         yellow        27\n",
       "4      Tim   65          black        46"
      ]
     },
     "execution_count": 9,
     "metadata": {},
     "output_type": "execute_result"
    }
   ],
   "source": [
    "print (\"The file has %i rows, showing first 5 of them.\" % len(info))\n",
    "info.head()"
   ]
  },
  {
   "cell_type": "code",
   "execution_count": 10,
   "metadata": {
    "collapsed": false
   },
   "outputs": [],
   "source": [
    "# Since the file is rather small, you could print is as a whole\n",
    "#print(info)"
   ]
  },
  {
   "cell_type": "markdown",
   "metadata": {},
   "source": [
    "### Selection of data\n",
    "You can pick a certain column to analyse by the heading of the column."
   ]
  },
  {
   "cell_type": "code",
   "execution_count": 11,
   "metadata": {
    "collapsed": false
   },
   "outputs": [
    {
     "data": {
      "text/plain": [
       "0       Mimi\n",
       "1       Mary\n",
       "2    Melanie\n",
       "3       Toby\n",
       "4        Tim\n",
       "5     Thomas\n",
       "6       Theo\n",
       "Name: Name, dtype: object"
      ]
     },
     "execution_count": 11,
     "metadata": {},
     "output_type": "execute_result"
    }
   ],
   "source": [
    "info['Name']"
   ]
  },
  {
   "cell_type": "markdown",
   "metadata": {},
   "source": [
    "You can pick certain values from your column of interest or a certain range of values by giving the column and indices as parameters."
   ]
  },
  {
   "cell_type": "code",
   "execution_count": 12,
   "metadata": {
    "collapsed": false,
    "scrolled": true
   },
   "outputs": [
    {
     "data": {
      "text/plain": [
       "0    purple\n",
       "2      blue\n",
       "Name: FavouriteColor, dtype: object"
      ]
     },
     "execution_count": 12,
     "metadata": {},
     "output_type": "execute_result"
    }
   ],
   "source": [
    "info.ix[[0,2],'FavouriteColor']"
   ]
  },
  {
   "cell_type": "code",
   "execution_count": 13,
   "metadata": {
    "collapsed": false
   },
   "outputs": [
    {
     "data": {
      "text/plain": [
       "0    purple\n",
       "1       red\n",
       "2      blue\n",
       "Name: FavouriteColor, dtype: object"
      ]
     },
     "execution_count": 13,
     "metadata": {},
     "output_type": "execute_result"
    }
   ],
   "source": [
    "info.ix[0:2,'FavouriteColor']"
   ]
  },
  {
   "cell_type": "markdown",
   "metadata": {},
   "source": [
    "With numpy-library you can calculate for example mean and stardard deviation of the ages. Notice the different output depending on the referred variable type."
   ]
  },
  {
   "cell_type": "code",
   "execution_count": 14,
   "metadata": {
    "collapsed": false
   },
   "outputs": [
    {
     "name": "stdout",
     "output_type": "stream",
     "text": [
      "Mean of ages is 34.428571 and standard deviation of ages is 18, 18, 1.857692e+01, 18.576922 or 18.6.\n"
     ]
    }
   ],
   "source": [
    "mean_age = np.mean(info['Age'])\n",
    "stdev = np.sqrt(np.var(info['Age']))\n",
    "print(('Mean of ages is %f and standard deviation of ages is %d, %i, %e, %f or %0.1f.') % (mean_age,stdev,stdev,stdev,stdev,stdev))"
   ]
  },
  {
   "cell_type": "markdown",
   "metadata": {},
   "source": [
    "### Plotting a histogram and a few nice tricks\n",
    "#### Initialization\n",
    "The aim is to produce a histogram based on the amount of data the user has selected."
   ]
  },
  {
   "cell_type": "code",
   "execution_count": 6,
   "metadata": {
    "collapsed": false
   },
   "outputs": [
    {
     "name": "stdout",
     "output_type": "stream",
     "text": [
      "Your file consists of 10851 rows. First 5 of them are shown below.\n"
     ]
    },
    {
     "data": {
      "text/html": [
       "<div>\n",
       "<table border=\"1\" class=\"dataframe\">\n",
       "  <thead>\n",
       "    <tr style=\"text-align: right;\">\n",
       "      <th></th>\n",
       "      <th>Run</th>\n",
       "      <th>Event</th>\n",
       "      <th>Type1</th>\n",
       "      <th>E1</th>\n",
       "      <th>px1</th>\n",
       "      <th>py1</th>\n",
       "      <th>pz1</th>\n",
       "      <th>pt1</th>\n",
       "      <th>eta1</th>\n",
       "      <th>phi1</th>\n",
       "      <th>...</th>\n",
       "      <th>Type2</th>\n",
       "      <th>E2</th>\n",
       "      <th>px2</th>\n",
       "      <th>py2</th>\n",
       "      <th>pz2</th>\n",
       "      <th>pt2</th>\n",
       "      <th>eta2</th>\n",
       "      <th>phi2</th>\n",
       "      <th>Q2</th>\n",
       "      <th>M</th>\n",
       "    </tr>\n",
       "  </thead>\n",
       "  <tbody>\n",
       "    <tr>\n",
       "      <th>0</th>\n",
       "      <td>165617</td>\n",
       "      <td>74969122</td>\n",
       "      <td>G</td>\n",
       "      <td>59.9226</td>\n",
       "      <td>-46.15160</td>\n",
       "      <td>29.4115</td>\n",
       "      <td>-24.4070</td>\n",
       "      <td>54.7055</td>\n",
       "      <td>-0.432396</td>\n",
       "      <td>2.574210</td>\n",
       "      <td>...</td>\n",
       "      <td>G</td>\n",
       "      <td>52.4465</td>\n",
       "      <td>30.10970</td>\n",
       "      <td>-16.39890</td>\n",
       "      <td>-39.68760</td>\n",
       "      <td>34.2464</td>\n",
       "      <td>-0.988480</td>\n",
       "      <td>-0.498704</td>\n",
       "      <td>-1</td>\n",
       "      <td>89.9557</td>\n",
       "    </tr>\n",
       "    <tr>\n",
       "      <th>1</th>\n",
       "      <td>165617</td>\n",
       "      <td>75138253</td>\n",
       "      <td>G</td>\n",
       "      <td>97.1011</td>\n",
       "      <td>-23.61440</td>\n",
       "      <td>6.6660</td>\n",
       "      <td>-93.9497</td>\n",
       "      <td>24.5872</td>\n",
       "      <td>-2.052200</td>\n",
       "      <td>2.866570</td>\n",
       "      <td>...</td>\n",
       "      <td>G</td>\n",
       "      <td>30.5992</td>\n",
       "      <td>-11.61340</td>\n",
       "      <td>-25.98480</td>\n",
       "      <td>11.23470</td>\n",
       "      <td>28.5389</td>\n",
       "      <td>0.385163</td>\n",
       "      <td>-1.991170</td>\n",
       "      <td>1</td>\n",
       "      <td>88.6081</td>\n",
       "    </tr>\n",
       "    <tr>\n",
       "      <th>2</th>\n",
       "      <td>165617</td>\n",
       "      <td>75887636</td>\n",
       "      <td>G</td>\n",
       "      <td>152.9720</td>\n",
       "      <td>7.46565</td>\n",
       "      <td>-30.7098</td>\n",
       "      <td>-149.6710</td>\n",
       "      <td>31.7386</td>\n",
       "      <td>-2.259450</td>\n",
       "      <td>-1.332290</td>\n",
       "      <td>...</td>\n",
       "      <td>G</td>\n",
       "      <td>33.5835</td>\n",
       "      <td>-9.28778</td>\n",
       "      <td>28.74570</td>\n",
       "      <td>-14.67190</td>\n",
       "      <td>30.2344</td>\n",
       "      <td>-0.468419</td>\n",
       "      <td>1.883310</td>\n",
       "      <td>1</td>\n",
       "      <td>88.2438</td>\n",
       "    </tr>\n",
       "    <tr>\n",
       "      <th>3</th>\n",
       "      <td>165617</td>\n",
       "      <td>75833588</td>\n",
       "      <td>G</td>\n",
       "      <td>181.8770</td>\n",
       "      <td>44.14270</td>\n",
       "      <td>-14.9498</td>\n",
       "      <td>175.8040</td>\n",
       "      <td>46.7085</td>\n",
       "      <td>2.037940</td>\n",
       "      <td>-0.326565</td>\n",
       "      <td>...</td>\n",
       "      <td>G</td>\n",
       "      <td>170.0210</td>\n",
       "      <td>-34.63010</td>\n",
       "      <td>12.32480</td>\n",
       "      <td>166.00000</td>\n",
       "      <td>36.1024</td>\n",
       "      <td>2.212810</td>\n",
       "      <td>2.799550</td>\n",
       "      <td>-1</td>\n",
       "      <td>83.0943</td>\n",
       "    </tr>\n",
       "    <tr>\n",
       "      <th>4</th>\n",
       "      <td>165617</td>\n",
       "      <td>75779415</td>\n",
       "      <td>G</td>\n",
       "      <td>50.2440</td>\n",
       "      <td>37.80720</td>\n",
       "      <td>-12.2044</td>\n",
       "      <td>-30.7590</td>\n",
       "      <td>39.7394</td>\n",
       "      <td>-0.712338</td>\n",
       "      <td>-0.312266</td>\n",
       "      <td>...</td>\n",
       "      <td>G</td>\n",
       "      <td>49.2396</td>\n",
       "      <td>-47.60640</td>\n",
       "      <td>8.23376</td>\n",
       "      <td>-9.50613</td>\n",
       "      <td>48.2790</td>\n",
       "      <td>-0.195625</td>\n",
       "      <td>2.970320</td>\n",
       "      <td>-1</td>\n",
       "      <td>90.3544</td>\n",
       "    </tr>\n",
       "  </tbody>\n",
       "</table>\n",
       "<p>5 rows × 21 columns</p>\n",
       "</div>"
      ],
      "text/plain": [
       "      Run     Event Type1        E1       px1      py1       pz1      pt1  \\\n",
       "0  165617  74969122     G   59.9226 -46.15160  29.4115  -24.4070  54.7055   \n",
       "1  165617  75138253     G   97.1011 -23.61440   6.6660  -93.9497  24.5872   \n",
       "2  165617  75887636     G  152.9720   7.46565 -30.7098 -149.6710  31.7386   \n",
       "3  165617  75833588     G  181.8770  44.14270 -14.9498  175.8040  46.7085   \n",
       "4  165617  75779415     G   50.2440  37.80720 -12.2044  -30.7590  39.7394   \n",
       "\n",
       "       eta1      phi1   ...     Type2        E2       px2       py2  \\\n",
       "0 -0.432396  2.574210   ...         G   52.4465  30.10970 -16.39890   \n",
       "1 -2.052200  2.866570   ...         G   30.5992 -11.61340 -25.98480   \n",
       "2 -2.259450 -1.332290   ...         G   33.5835  -9.28778  28.74570   \n",
       "3  2.037940 -0.326565   ...         G  170.0210 -34.63010  12.32480   \n",
       "4 -0.712338 -0.312266   ...         G   49.2396 -47.60640   8.23376   \n",
       "\n",
       "         pz2      pt2      eta2      phi2  Q2        M  \n",
       "0  -39.68760  34.2464 -0.988480 -0.498704  -1  89.9557  \n",
       "1   11.23470  28.5389  0.385163 -1.991170   1  88.6081  \n",
       "2  -14.67190  30.2344 -0.468419  1.883310   1  88.2438  \n",
       "3  166.00000  36.1024  2.212810  2.799550  -1  83.0943  \n",
       "4   -9.50613  48.2790 -0.195625  2.970320  -1  90.3544  \n",
       "\n",
       "[5 rows x 21 columns]"
      ]
     },
     "execution_count": 6,
     "metadata": {},
     "output_type": "execute_result"
    }
   ],
   "source": [
    "# Save contents of the file to variable \"dataset\". Determine the number of rows in the file and have a look at the content.\n",
    "dataset = pd.read_csv('data/Zmumu_Run2011A_massoilla.csv')\n",
    "print('Your file consists of %i rows. First 5 of them are shown below.' % len(dataset))\n",
    "dataset.head()"
   ]
  },
  {
   "cell_type": "code",
   "execution_count": 7,
   "metadata": {
    "collapsed": false
   },
   "outputs": [],
   "source": [
    "# Pick the information from column \"M\" to variable \"invariant_mass\".\n",
    "invariant_mass = dataset['M']\n",
    "\n",
    "# Create an empty table \"selected\" in which the selected number of invariant masses will be saved.\n",
    "selected = []"
   ]
  },
  {
   "cell_type": "markdown",
   "metadata": {},
   "source": [
    "#### Plotting"
   ]
  },
  {
   "cell_type": "code",
   "execution_count": 9,
   "metadata": {
    "collapsed": false
   },
   "outputs": [
    {
     "name": "stdout",
     "output_type": "stream",
     "text": [
      "Enter the desired number of data to be used: 1450\n",
      "\n",
      " You chose 1450 values of invariant masses.\n"
     ]
    },
    {
     "data": {
      "image/png": "[encoded data removed]",
      "text/plain": [
       "<matplotlib.figure.Figure at 0x7fc12ccfbd90>"
      ]
     },
     "metadata": {},
     "output_type": "display_data"
    }
   ],
   "source": [
    "# Ask the user to give the number of data and save it to variable \"data_amount\"\n",
    "data_amount = int(input('Enter the desired number of data to be used: '))\n",
    "\n",
    "# Create an if-loop which prints an error message if the desired number of data is greater \n",
    "# than the number of invariant masses available. Otherwise the loop will save the given number\n",
    "# to the variable \"selected\".\n",
    "if data_amount > len(invariant_mass):\n",
    "    print('''The selected number of data is greater than the number of data available.\n",
    "The histogram was constructed based on the available data including %i events.'''% len(invariant_mass))\n",
    "    data_amount = len(invariant_mass)\n",
    "    for f in range(data_amount):\n",
    "        M = invariant_mass[f]\n",
    "        selected.append(M)\n",
    "    \n",
    "else:    \n",
    "    for f in range(data_amount):\n",
    "        M = invariant_mass[f]\n",
    "        selected.append(M)\n",
    "    print('\\n You chose {} values of invariant masses.'.format(data_amount))\n",
    "    \n",
    "# There exists a function for plotting a histogram in matplotlib called \"hist\". Let's use it and set\n",
    "# the number of bins and the range for the histogram. The color is not necessari but it's nice to know.\n",
    "plt.hist(selected, bins=120, range=(60,120), color='magenta')\n",
    "\n",
    "# Name the axes and give a title\n",
    "plt.xlabel('Invariant mass [GeV]')\n",
    "plt.ylabel('Number of events')\n",
    "plt.title('The histogram of the invariant masses of two muons \\n')\n",
    "\n",
    "# Set the y-axis from 0 to 800. The plotting area is fitted automatically if not defined.\n",
    "# The x-axis is defined in the histogram range but you can change it with axes.set_xlim().\n",
    "axes = plt.gca()\n",
    "axes.set_ylim([0,800])\n",
    "\n",
    "# Empty the selected values for next run. Rerun the cell to enter another number.\n",
    "selected = []"
   ]
  }
 ],
 "metadata": {
  "kernelspec": {
   "display_name": "Python 2",
   "language": "python",
   "name": "python2"
  },
  "language_info": {
   "codemirror_mode": {
    "name": "ipython",
    "version": 2
   },
   "file_extension": ".py",
   "mimetype": "text/x-python",
   "name": "python",
   "nbconvert_exporter": "python",
   "pygments_lexer": "ipython2",
   "version": "2.7.13"
  }
 },
 "nbformat": 4,
 "nbformat_minor": 1
}
