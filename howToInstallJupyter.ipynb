{
 "cells": [
  {
   "cell_type": "markdown",
   "metadata": {
    "collapsed": true
   },
   "source": [
    "# Installation of Jupyter Notebook\n",
    "\n",
    "Jupyter Notebook [jupyter.org](http://jupyter.org/) is an application that allows you to create documents combining programming code, normal text, images, visualizations and equations. The documents are called notebooks.\n",
    "\n",
    "There are couple of different ways to install Jupyter Notebook. A description is found at the webpage [https://docs.continuum.io/anaconda/install/](https://docs.continuum.io/anaconda/install/). \n",
    "\n",
    "The easiest and warmly recommended option is to perform the installation with Anaconda. Anaconda installs Jupyter and Python (+ some useful packages for Python programming) all at once. The installation is easy: \n",
    "\n",
    "* Download Anaconda from a webpage [https://www.continuum.io/downloads](https://www.continuum.io/downloads). We recommend downloading the newest version of Python 3. At the moment of writing this document the newest version is 3.6.\n",
    "* Install Anaconda with the installation wizard that was downloaded. \n",
    "* After the installation you can launch Jupyter either by opening the application from *Anaconda Navigator* and then choosing Jupyter Notebook from the menu or by writing the command *jupyter notebook* to the command line. \n",
    "\n",
    "If you can see similar menu opening (see below), the application should work. Should there be any problems with installation, please do not hesitate to contact the persons in charge of this work group. \n",
    "If you get an error message you should report the problem on GitHub at [https://github.com/continuumio/anaconda-issues/issues](https://github.com/continuumio/anaconda-issues/issues). \n",
     "\n",
    "![title](images/menuExample.png)\n",
    "\n",
    "\n",
    "# Alternative ways to install Jupyter Notebook\n",
    "Complete instructions for the installation of Jupyter Notebook are found from this website [http://jupyter.readthedocs.io/en/latest/install.html](http://jupyter.readthedocs.io/en/latest/install.html).\n",
   ]
  }
 ],
 "metadata": {
  "kernelspec": {
   "display_name": "Python 3",
   "language": "python",
   "name": "python3"
  },
  "language_info": {
   "codemirror_mode": {
    "name": "ipython",
    "version": 3
   },
   "file_extension": ".py",
   "mimetype": "text/x-python",
   "name": "python",
   "nbconvert_exporter": "python",
   "pygments_lexer": "ipython3",
   "version": "3.6.0"
  }
 },
 "nbformat": 4,
 "nbformat_minor": 2
}
